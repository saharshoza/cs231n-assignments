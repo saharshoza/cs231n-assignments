{
 "cells": [
  {
   "cell_type": "markdown",
   "metadata": {},
   "source": [
    "# Softmax exercise\n",
    "\n",
    "*Complete and hand in this completed worksheet (including its outputs and any supporting code outside of the worksheet) with your assignment submission. For more details see the [assignments page](http://vision.stanford.edu/teaching/cs231n/assignments.html) on the course website.*\n",
    "\n",
    "This exercise is analogous to the SVM exercise. You will:\n",
    "\n",
    "- implement a fully-vectorized **loss function** for the Softmax classifier\n",
    "- implement the fully-vectorized expression for its **analytic gradient**\n",
    "- **check your implementation** with numerical gradient\n",
    "- use a validation set to **tune the learning rate and regularization** strength\n",
    "- **optimize** the loss function with **SGD**\n",
    "- **visualize** the final learned weights\n"
   ]
  },
  {
   "cell_type": "code",
   "execution_count": 1,
   "metadata": {
    "collapsed": false
   },
   "outputs": [],
   "source": [
    "import random\n",
    "import numpy as np\n",
    "from cs231n.data_utils import load_CIFAR10\n",
    "import matplotlib.pyplot as plt\n",
    "%matplotlib inline\n",
    "plt.rcParams['figure.figsize'] = (10.0, 8.0) # set default size of plots\n",
    "plt.rcParams['image.interpolation'] = 'nearest'\n",
    "plt.rcParams['image.cmap'] = 'gray'\n",
    "\n",
    "# for auto-reloading extenrnal modules\n",
    "# see http://stackoverflow.com/questions/1907993/autoreload-of-modules-in-ipython\n",
    "%load_ext autoreload\n",
    "%autoreload 2"
   ]
  },
  {
   "cell_type": "code",
   "execution_count": 2,
   "metadata": {
    "collapsed": false
   },
   "outputs": [
    {
     "name": "stdout",
     "output_type": "stream",
     "text": [
      "Train data shape:  (49000, 3073)\n",
      "Train labels shape:  (49000,)\n",
      "Validation data shape:  (1000, 3073)\n",
      "Validation labels shape:  (1000,)\n",
      "Test data shape:  (1000, 3073)\n",
      "Test labels shape:  (1000,)\n",
      "dev data shape:  (500, 3073)\n",
      "dev labels shape:  (500,)\n"
     ]
    }
   ],
   "source": [
    "def get_CIFAR10_data(num_training=49000, num_validation=1000, num_test=1000, num_dev=500):\n",
    "  \"\"\"\n",
    "  Load the CIFAR-10 dataset from disk and perform preprocessing to prepare\n",
    "  it for the linear classifier. These are the same steps as we used for the\n",
    "  SVM, but condensed to a single function.  \n",
    "  \"\"\"\n",
    "  # Load the raw CIFAR-10 data\n",
    "  cifar10_dir = 'cs231n/datasets/cifar-10-batches-py'\n",
    "  X_train, y_train, X_test, y_test = load_CIFAR10(cifar10_dir)\n",
    "  \n",
    "  # subsample the data\n",
    "  mask = range(num_training, num_training + num_validation)\n",
    "  X_val = X_train[mask]\n",
    "  y_val = y_train[mask]\n",
    "  mask = range(num_training)\n",
    "  X_train = X_train[mask]\n",
    "  y_train = y_train[mask]\n",
    "  mask = range(num_test)\n",
    "  X_test = X_test[mask]\n",
    "  y_test = y_test[mask]\n",
    "  mask = np.random.choice(num_training, num_dev, replace=False)\n",
    "  X_dev = X_train[mask]\n",
    "  y_dev = y_train[mask]\n",
    "  \n",
    "  # Preprocessing: reshape the image data into rows\n",
    "  X_train = np.reshape(X_train, (X_train.shape[0], -1))\n",
    "  X_val = np.reshape(X_val, (X_val.shape[0], -1))\n",
    "  X_test = np.reshape(X_test, (X_test.shape[0], -1))\n",
    "  X_dev = np.reshape(X_dev, (X_dev.shape[0], -1))\n",
    "  \n",
    "  # Normalize the data: subtract the mean image\n",
    "  mean_image = np.mean(X_train, axis = 0)\n",
    "  X_train -= mean_image\n",
    "  X_val -= mean_image\n",
    "  X_test -= mean_image\n",
    "  X_dev -= mean_image\n",
    "  \n",
    "  # add bias dimension and transform into columns\n",
    "  X_train = np.hstack([X_train, np.ones((X_train.shape[0], 1))])\n",
    "  X_val = np.hstack([X_val, np.ones((X_val.shape[0], 1))])\n",
    "  X_test = np.hstack([X_test, np.ones((X_test.shape[0], 1))])\n",
    "  X_dev = np.hstack([X_dev, np.ones((X_dev.shape[0], 1))])\n",
    "  \n",
    "  return X_train, y_train, X_val, y_val, X_test, y_test, X_dev, y_dev\n",
    "\n",
    "\n",
    "# Invoke the above function to get our data.\n",
    "X_train, y_train, X_val, y_val, X_test, y_test, X_dev, y_dev = get_CIFAR10_data()\n",
    "print 'Train data shape: ', X_train.shape\n",
    "print 'Train labels shape: ', y_train.shape\n",
    "print 'Validation data shape: ', X_val.shape\n",
    "print 'Validation labels shape: ', y_val.shape\n",
    "print 'Test data shape: ', X_test.shape\n",
    "print 'Test labels shape: ', y_test.shape\n",
    "print 'dev data shape: ', X_dev.shape\n",
    "print 'dev labels shape: ', y_dev.shape"
   ]
  },
  {
   "cell_type": "markdown",
   "metadata": {},
   "source": [
    "## Softmax Classifier\n",
    "\n",
    "Your code for this section will all be written inside **cs231n/classifiers/softmax.py**. \n"
   ]
  },
  {
   "cell_type": "code",
   "execution_count": 13,
   "metadata": {
    "collapsed": false
   },
   "outputs": [
    {
     "name": "stdout",
     "output_type": "stream",
     "text": [
      "loss: 2.296956\n",
      "sanity check: 2.302585\n"
     ]
    }
   ],
   "source": [
    "# First implement the naive softmax loss function with nested loops.\n",
    "# Open the file cs231n/classifiers/softmax.py and implement the\n",
    "# softmax_loss_naive function.\n",
    "\n",
    "from cs231n.classifiers.softmax import softmax_loss_naive\n",
    "import time\n",
    "\n",
    "# Generate a random softmax weight matrix and use it to compute the loss.\n",
    "W = np.random.randn(3073, 10) * 0.0001\n",
    "loss, grad = softmax_loss_naive(W, X_dev, y_dev, 0.0)\n",
    "\n",
    "# As a rough sanity check, our loss should be something close to -log(0.1).\n",
    "print 'loss: %f' % loss\n",
    "print 'sanity check: %f' % (-np.log(0.1))"
   ]
  },
  {
   "cell_type": "markdown",
   "metadata": {},
   "source": [
    "## Inline Question 1:\n",
    "Why do we expect our loss to be close to -log(0.1)? Explain briefly.**\n",
    "\n",
    "Since there are 10 classes, for a large enough distribution, the probability of any 1 class being selected should be (1/10 = 0.1)\n"
   ]
  },
  {
   "cell_type": "code",
   "execution_count": 35,
   "metadata": {
    "collapsed": false
   },
   "outputs": [
    {
     "name": "stdout",
     "output_type": "stream",
     "text": [
      "numerical: 1.222769 analytic: 1.222769, relative error: 3.562879e-08\n",
      "numerical: -1.602365 analytic: -1.602365, relative error: 2.457136e-08\n",
      "numerical: -1.022584 analytic: -1.022584, relative error: 3.117929e-09\n",
      "numerical: 2.227708 analytic: 2.227708, relative error: 2.746081e-09\n",
      "numerical: 1.900536 analytic: 1.900535, relative error: 2.123937e-08\n",
      "numerical: -0.903196 analytic: -0.903196, relative error: 3.926156e-08\n",
      "numerical: 0.663459 analytic: 0.663459, relative error: 2.288205e-09\n",
      "numerical: -0.926276 analytic: -0.926276, relative error: 4.200246e-09\n",
      "numerical: -0.526101 analytic: -0.526101, relative error: 3.077068e-08\n",
      "numerical: -0.240918 analytic: -0.240918, relative error: 1.578221e-07\n",
      "numerical: -0.615764 analytic: -0.623462, relative error: 6.211884e-03\n",
      "numerical: 1.436128 analytic: 1.420935, relative error: 5.317929e-03\n",
      "numerical: -1.218577 analytic: -1.223425, relative error: 1.985184e-03\n",
      "numerical: 1.485976 analytic: 1.499372, relative error: 4.487146e-03\n",
      "numerical: 0.734763 analytic: 0.734489, relative error: 1.863831e-04\n",
      "numerical: -2.488090 analytic: -2.485697, relative error: 4.810505e-04\n",
      "numerical: 3.158252 analytic: 3.162569, relative error: 6.830504e-04\n",
      "numerical: -0.754320 analytic: -0.774245, relative error: 1.303503e-02\n",
      "numerical: -0.177004 analytic: -0.194834, relative error: 4.794937e-02\n",
      "numerical: 0.561919 analytic: 0.564802, relative error: 2.558311e-03\n"
     ]
    }
   ],
   "source": [
    "# Complete the implementation of softmax_loss_naive and implement a (naive)\n",
    "# version of the gradient that uses nested loops.\n",
    "loss, grad = softmax_loss_naive(W, X_dev, y_dev, 0.0)\n",
    "\n",
    "# As we did for the SVM, use numeric gradient checking as a debugging tool.\n",
    "# The numeric gradient should be close to the analytic gradient.\n",
    "from cs231n.gradient_check import grad_check_sparse\n",
    "f = lambda w: softmax_loss_naive(w, X_dev, y_dev, 0.0)[0]\n",
    "grad_numerical = grad_check_sparse(f, W, grad, 10)\n",
    "\n",
    "# similar to SVM case, do another gradient check with regularization\n",
    "loss, grad = softmax_loss_naive(W, X_dev, y_dev, 1e2)\n",
    "f = lambda w: softmax_loss_naive(w, X_dev, y_dev, 1e2)[0]\n",
    "grad_numerical = grad_check_sparse(f, W, grad, 10)"
   ]
  },
  {
   "cell_type": "code",
   "execution_count": 37,
   "metadata": {
    "collapsed": false
   },
   "outputs": [
    {
     "name": "stdout",
     "output_type": "stream",
     "text": [
      "Initialize\n",
      "(3073, 10)\n",
      "(10, 500)\n",
      "(10, 500)\n",
      "(10, 500)\n",
      "In function\n",
      "(3073, 10)\n",
      "naive loss: 2.296956e+00 computed in 0.004191s\n",
      "Initialize\n",
      "(3073, 10)\n",
      "(10, 500)\n",
      "(10, 500)\n",
      "(10, 500)\n",
      "In function\n",
      "(3073, 10)\n",
      "vectorized loss: 2.296956e+00 computed in 0.003470s\n",
      "Loss difference: 0.000000\n",
      "Gradient difference: 0.000000\n"
     ]
    }
   ],
   "source": [
    "# Now that we have a naive implementation of the softmax loss function and its gradient,\n",
    "# implement a vectorized version in softmax_loss_vectorized.\n",
    "# The two versions should compute the same results, but the vectorized version should be\n",
    "# much faster.\n",
    "tic = time.time()\n",
    "loss_naive, grad_naive = softmax_loss_naive(W, X_dev, y_dev, 0.00001)\n",
    "toc = time.time()\n",
    "print 'naive loss: %e computed in %fs' % (loss_naive, toc - tic)\n",
    "\n",
    "from cs231n.classifiers.softmax import softmax_loss_vectorized\n",
    "tic = time.time()\n",
    "loss_vectorized, grad_vectorized = softmax_loss_vectorized(W, X_dev, y_dev, 0.00001)\n",
    "toc = time.time()\n",
    "print 'vectorized loss: %e computed in %fs' % (loss_vectorized, toc - tic)\n",
    "\n",
    "# As we did for the SVM, we use the Frobenius norm to compare the two versions\n",
    "# of the gradient.\n",
    "grad_difference = np.linalg.norm(grad_naive - grad_vectorized, ord='fro')\n",
    "print 'Loss difference: %f' % np.abs(loss_naive - loss_vectorized)\n",
    "print 'Gradient difference: %f' % grad_difference"
   ]
  },
  {
   "cell_type": "code",
   "execution_count": 43,
   "metadata": {
    "collapsed": false
   },
   "outputs": [
    {
     "name": "stdout",
     "output_type": "stream",
     "text": [
      "iteration 0 / 1500: loss 775.426711\n",
      "iteration 100 / 1500: loss 772.354915\n",
      "iteration 200 / 1500: loss 770.612919\n",
      "iteration 300 / 1500: loss 769.378072\n",
      "iteration 400 / 1500: loss 768.466780\n",
      "iteration 500 / 1500: loss 767.762894\n",
      "iteration 600 / 1500: loss 767.202428\n",
      "iteration 700 / 1500: loss 766.789157\n",
      "iteration 800 / 1500: loss 766.472609\n",
      "iteration 900 / 1500: loss 766.239882\n",
      "iteration 1000 / 1500: loss 766.069565\n",
      "iteration 1100 / 1500: loss 765.977582\n",
      "iteration 1200 / 1500: loss 765.928561\n",
      "iteration 1300 / 1500: loss 765.929524\n",
      "iteration 1400 / 1500: loss 765.975480\n",
      "That took 1316.241152s\n",
      "training accuracy: 0.206694\n",
      "validation accuracy: 0.229000\n",
      "{(1e-07, 50000.0): (0.20669387755102042, 0.22900000000000001)}\n",
      "iteration 0 / 1500: loss 1528791.075545\n",
      "iteration 100 / 1500: loss 1525890.309143\n",
      "iteration 200 / 1500: loss 1524094.459488\n",
      "iteration 300 / 1500: loss 1522870.370596\n",
      "iteration 400 / 1500: loss 1522034.793999\n",
      "iteration 500 / 1500: loss 1521491.338840\n",
      "iteration 600 / 1500: loss 1521162.568313\n",
      "iteration 700 / 1500: loss 1520997.155735\n",
      "iteration 800 / 1500: loss 1520960.095855\n",
      "iteration 900 / 1500: loss 1521027.445461\n",
      "iteration 1000 / 1500: loss 1521182.295505\n",
      "iteration 1100 / 1500: loss 1521407.471026\n",
      "iteration 1200 / 1500: loss 1521691.322706\n",
      "iteration 1300 / 1500: loss 1522022.902917\n",
      "iteration 1400 / 1500: loss 1522393.666866\n",
      "That took 1273.983433s\n",
      "training accuracy: 0.208959\n",
      "validation accuracy: 0.218000\n",
      "{(1e-07, 50000.0): (0.20669387755102042, 0.22900000000000001), (1e-07, 100000000.0): (0.20895918367346938, 0.218)}\n",
      "iteration 0 / 1500: loss 774.779785\n",
      "iteration 100 / 1500: loss 767.701047\n",
      "iteration 200 / 1500: loss 766.585405\n",
      "iteration 300 / 1500: loss 766.852227\n",
      "iteration 400 / 1500: loss 767.683124\n",
      "iteration 500 / 1500: loss 768.751112\n",
      "iteration 600 / 1500: loss 769.906510\n",
      "iteration 700 / 1500: loss 771.082349\n",
      "iteration 800 / 1500: loss 772.247028\n",
      "iteration 900 / 1500: loss 773.381080\n",
      "iteration 1000 / 1500: loss 774.474733\n",
      "iteration 1100 / 1500: loss 775.525872\n",
      "iteration 1200 / 1500: loss 776.530251\n",
      "iteration 1300 / 1500: loss 777.489521\n",
      "iteration 1400 / 1500: loss 778.407896\n",
      "That took 1290.883651s\n",
      "training accuracy: 0.221306\n",
      "validation accuracy: 0.242000\n",
      "{(1e-07, 50000.0): (0.20669387755102042, 0.22900000000000001), (5e-07, 50000.0): (0.2213061224489796, 0.24199999999999999), (1e-07, 100000000.0): (0.20895918367346938, 0.218)}\n",
      "iteration 0 / 1500: loss 1556159.236431\n",
      "iteration 100 / 1500: loss 1547682.182875\n",
      "iteration 200 / 1500: loss 1546897.432667\n",
      "iteration 300 / 1500: loss 1548374.372973\n",
      "iteration 400 / 1500: loss 1550744.382499\n",
      "iteration 500 / 1500: loss 1553423.219006\n",
      "iteration 600 / 1500: loss 1556142.359671\n",
      "iteration 700 / 1500: loss 1558790.725703\n",
      "iteration 800 / 1500: loss 1561325.898986\n",
      "iteration 900 / 1500: loss 1563735.248984\n",
      "iteration 1000 / 1500: loss 1566020.788215\n",
      "iteration 1100 / 1500: loss 1568187.675934\n",
      "iteration 1200 / 1500: loss 1570242.993333\n",
      "iteration 1300 / 1500: loss 1572196.307969\n",
      "iteration 1400 / 1500: loss 1574056.417353\n",
      "That took 1280.659522s\n",
      "training accuracy: 0.221429\n",
      "validation accuracy: 0.220000\n",
      "{(1e-07, 50000.0): (0.20669387755102042, 0.22900000000000001), (5e-07, 100000000.0): (0.22142857142857142, 0.22), (5e-07, 50000.0): (0.2213061224489796, 0.24199999999999999), (1e-07, 100000000.0): (0.20895918367346938, 0.218)}\n",
      "lr 1.000000e-07 reg 5.000000e+04 train accuracy: 0.206694 val accuracy: 0.229000\n",
      "lr 1.000000e-07 reg 1.000000e+08 train accuracy: 0.208959 val accuracy: 0.218000\n",
      "lr 5.000000e-07 reg 5.000000e+04 train accuracy: 0.221306 val accuracy: 0.242000\n",
      "lr 5.000000e-07 reg 1.000000e+08 train accuracy: 0.221429 val accuracy: 0.220000\n",
      "best validation accuracy achieved during cross-validation: 0.242000\n"
     ]
    }
   ],
   "source": [
    "# Use the validation set to tune hyperparameters (regularization strength and\n",
    "# learning rate). You should experiment with different ranges for the learning\n",
    "# rates and regularization strengths; if you are careful you should be able to\n",
    "# get a classification accuracy of over 0.35 on the validation set.\n",
    "from cs231n.classifiers import Softmax\n",
    "results = {}\n",
    "best_val = -1\n",
    "best_softmax = None\n",
    "learning_rates = [1e-7, 5e-7]\n",
    "regularization_strengths = [5e4, 1e8]\n",
    "\n",
    "results = {}\n",
    "best_val = -1   # The highest validation accuracy that we have seen so far.\n",
    "best_softmax = None # The LinearSVM object that achieved the highest validation rate.\n",
    "\n",
    "for learn_iter in range(0,len(learning_rates)):\n",
    "    for reg_iter in range(0,len(regularization_strengths)):\n",
    "        \n",
    "        softmax = Softmax()\n",
    "        \n",
    "        ## Train data\n",
    "        tic = time.time()\n",
    "        loss_hist = softmax.train(X_train, y_train, learning_rate=learning_rates[learn_iter], reg=regularization_strengths[reg_iter],\n",
    "                      num_iters=1500, verbose=True)\n",
    "        toc = time.time()\n",
    "        print 'That took %fs' % (toc - tic)\n",
    "        \n",
    "        ## Test data\n",
    "        y_train_pred = softmax.predict(X_train)\n",
    "        training_accuracy = np.mean(y_train == y_train_pred)\n",
    "        print 'training accuracy: %f' % (np.mean(y_train == y_train_pred), )\n",
    "        \n",
    "        ## Validation data\n",
    "        y_val_pred = softmax.predict(X_val)\n",
    "        validation_accuracy = np.mean(y_val == y_val_pred)\n",
    "        print 'validation accuracy: %f' % (np.mean(y_val == y_val_pred), )\n",
    "        \n",
    "        results[(learning_rates[learn_iter],regularization_strengths[reg_iter])] = (training_accuracy,validation_accuracy)\n",
    "        \n",
    "        if validation_accuracy > best_val:\n",
    "            best_val = validation_accuracy\n",
    "            best_softmax = softmax\n",
    "            \n",
    "        print results\n",
    "################################################################################\n",
    "# TODO:                                                                        #\n",
    "# Use the validation set to set the learning rate and regularization strength. #\n",
    "# This should be identical to the validation that you did for the SVM; save    #\n",
    "# the best trained softmax classifer in best_softmax.                          #\n",
    "################################################################################\n",
    "pass\n",
    "################################################################################\n",
    "#                              END OF YOUR CODE                                #\n",
    "################################################################################\n",
    "    \n",
    "# Print out results.\n",
    "for lr, reg in sorted(results):\n",
    "    train_accuracy, val_accuracy = results[(lr, reg)]\n",
    "    print 'lr %e reg %e train accuracy: %f val accuracy: %f' % (\n",
    "                lr, reg, train_accuracy, val_accuracy)\n",
    "    \n",
    "print 'best validation accuracy achieved during cross-validation: %f' % best_val"
   ]
  },
  {
   "cell_type": "code",
   "execution_count": 44,
   "metadata": {
    "collapsed": false
   },
   "outputs": [
    {
     "name": "stdout",
     "output_type": "stream",
     "text": [
      "softmax on raw pixels final test set accuracy: 0.196000\n"
     ]
    }
   ],
   "source": [
    "# evaluate on test set\n",
    "# Evaluate the best softmax on test set\n",
    "y_test_pred = best_softmax.predict(X_test)\n",
    "test_accuracy = np.mean(y_test == y_test_pred)\n",
    "print 'softmax on raw pixels final test set accuracy: %f' % (test_accuracy, )"
   ]
  },
  {
   "cell_type": "code",
   "execution_count": 45,
   "metadata": {
    "collapsed": false
   },
   "outputs": [
    {
     "data": {
      "image/png": "[encoded data removed]",
      "text/plain": [
       "<matplotlib.figure.Figure at 0x11522f1d0>"
      ]
     },
     "metadata": {},
     "output_type": "display_data"
    }
   ],
   "source": [
    "# Visualize the learned weights for each class\n",
    "w = best_softmax.W[:-1,:] # strip out the bias\n",
    "w = w.reshape(32, 32, 3, 10)\n",
    "\n",
    "w_min, w_max = np.min(w), np.max(w)\n",
    "\n",
    "classes = ['plane', 'car', 'bird', 'cat', 'deer', 'dog', 'frog', 'horse', 'ship', 'truck']\n",
    "for i in xrange(10):\n",
    "  plt.subplot(2, 5, i + 1)\n",
    "  \n",
    "  # Rescale the weights to be between 0 and 255\n",
    "  wimg = 255.0 * (w[:, :, :, i].squeeze() - w_min) / (w_max - w_min)\n",
    "  plt.imshow(wimg.astype('uint8'))\n",
    "  plt.axis('off')\n",
    "  plt.title(classes[i])"
   ]
  },
  {
   "cell_type": "code",
   "execution_count": null,
   "metadata": {
    "collapsed": true
   },
   "outputs": [],
   "source": []
  }
 ],
 "metadata": {
  "kernelspec": {
   "display_name": "Python 2",
   "language": "python",
   "name": "python2"
  },
  "language_info": {
   "codemirror_mode": {
    "name": "ipython",
    "version": 2
   },
   "file_extension": ".py",
   "mimetype": "text/x-python",
   "name": "python",
   "nbconvert_exporter": "python",
   "pygments_lexer": "ipython2",
   "version": "2.7.11"
  }
 },
 "nbformat": 4,
 "nbformat_minor": 0
}
